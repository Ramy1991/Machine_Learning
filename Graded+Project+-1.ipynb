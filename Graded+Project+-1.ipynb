{
 "cells": [
  {
   "cell_type": "markdown",
   "id": "d8e44087",
   "metadata": {},
   "source": [
    "# Part 1"
   ]
  },
  {
   "cell_type": "markdown",
   "id": "8a4832b1",
   "metadata": {},
   "source": [
    "### 1. Write a program to calculate the area of a circle. The program should ask for the appropriate input and print the resulting area on the screen. (4 points)\n",
    "\n",
    "a. Input text: Please enter the radius of the circle.<br>\n",
    "b. If the user enters a value of 5. The output should be: The area of the circle\n",
    "is 78.54<br>\n",
    "c. This program should indicate that the input is invalid if the user enters a\n",
    "character instead of a number as input. For instance if the user enters a\n",
    "value of ‘a’ instead of 5 in the previous example the program should\n",
    "prompt: Invalid input, please enter a number"
   ]
  },
  {
   "cell_type": "code",
   "execution_count": 1,
   "id": "8cb72c8f",
   "metadata": {},
   "outputs": [
    {
     "name": "stdout",
     "output_type": "stream",
     "text": [
      "Please enter the radius of the circle: 5\n",
      "78.54\n"
     ]
    }
   ],
   "source": [
    "def area_of_a_circle(user_in):\n",
    "    if user_in.isdigit():\n",
    "        R = int(user_in)\n",
    "        PI = 3.1416\n",
    "        return PI * R * R\n",
    "    else:\n",
    "        return 'Invalid input, please enter a number'\n",
    "\n",
    "user_input = input(\"Please enter the radius of the circle: \")\n",
    "print(area_of_a_circle(user_input))"
   ]
  },
  {
   "cell_type": "markdown",
   "id": "6e905c25",
   "metadata": {},
   "source": [
    "### 2. Write a program which will take two lists X & Y as input and it will return true along with the common element if they have one or more common elements.(4 points)\n",
    "a. Input list: X=[1,2,3,4,5] & Y=[5,6,7,8,9]<br>\n",
    "b. Output: The similar element is"
   ]
  },
  {
   "cell_type": "code",
   "execution_count": 2,
   "id": "6d14078c",
   "metadata": {},
   "outputs": [
    {
     "name": "stdout",
     "output_type": "stream",
     "text": [
      "The similar element is: 5\n",
      "True\n"
     ]
    }
   ],
   "source": [
    "X = [1,2,3,4,5]\n",
    "Y = [5,6,7,8,9]\n",
    "\n",
    "def check_common_elements(list_1, list_2):\n",
    "    common_elements = []\n",
    "    for i in list_1:\n",
    "        if i in list_2:\n",
    "            common_elements.append(i)\n",
    "            \n",
    "    if common_elements:\n",
    "        common_elements = ','.join(map(str, common_elements))\n",
    "        print(f\"The similar element is: {str(common_elements)}\")\n",
    "        return True\n",
    "    else:\n",
    "        return False\n",
    "\n",
    "print(check_common_elements(X, Y))"
   ]
  },
  {
   "cell_type": "markdown",
   "id": "a9945275",
   "metadata": {},
   "source": [
    "#### 3. Given two sets s1={5,8,3,6} & s2={1,5.7,8.9} Write a program to check whether the two sets are disjoint (have no common elements) and return 'True' if there are no common elements. (3 points)"
   ]
  },
  {
   "cell_type": "code",
   "execution_count": 3,
   "id": "b4f3802f",
   "metadata": {},
   "outputs": [
    {
     "name": "stdout",
     "output_type": "stream",
     "text": [
      "False\n"
     ]
    }
   ],
   "source": [
    "s1 = {5,8,3,6}\n",
    "s2 = {1,5,7,8,9}\n",
    "\n",
    "result = s1.isdisjoint(s2)\n",
    "print(result)"
   ]
  },
  {
   "cell_type": "markdown",
   "id": "18292ad5",
   "metadata": {},
   "source": [
    "### 4. Write a program to check whether a given number is a prime number or not?. Check for number 3 and 4. (4 points)"
   ]
  },
  {
   "cell_type": "code",
   "execution_count": 4,
   "id": "3a98054a",
   "metadata": {},
   "outputs": [
    {
     "name": "stdout",
     "output_type": "stream",
     "text": [
      "3 is a prime number\n",
      "4 is not a prime number\n"
     ]
    }
   ],
   "source": [
    "num_1 = 3\n",
    "num_2 = 4\n",
    "\n",
    "def check_prime(num):\n",
    "    check = 0\n",
    "    if num > 1:\n",
    "        for i in range(2, num):\n",
    "            if (num % i) == 0:\n",
    "                check = 1\n",
    "                break\n",
    "    if check > 0:\n",
    "        print(num, \"is not a prime number\")\n",
    "    else:\n",
    "        print(num, \"is a prime number\")\n",
    "        \n",
    "check_prime(num_1)     \n",
    "check_prime(num_2)"
   ]
  },
  {
   "cell_type": "markdown",
   "id": "82512015",
   "metadata": {},
   "source": [
    "### 5. Create an encrypter in python based on the ceaser cipher. It is a substitution cipher where each character of the original text is shifted by a certain number to another character in the alphabet.\n",
    "a. 5.1 Write a function which will encrypt a given text. The function would\n",
    "require 2 arguments – the input text to be encrypted and a key. (5 points)<br>\n",
    "b. 5.2 Similarly create a decrypter which can decode the encrypted text\n",
    "when provided with the input text and key. (5 points)<br>\n",
    "c. For eg: Given the input text ‘hello’ and the key 3, the resulting encrypted\n",
    "text would be ‘khoor’. Here you can see that every character in the string\n",
    "hello is shifted by 3 characters. ‘h’ has shifted to ‘k’, ‘e’ has shifted to ‘h’\n",
    "and so on. If a key of 5 were used, the resulting string would be ‘mjqqt’.<br>\n",
    "d. Example: encrypt(‘hello world!’, 3):- ‘khoor zruog!’<br>\n",
    "e. Example: decrypt(‘khoor zruog!’, 3):- ‘hello world!’<br>"
   ]
  },
  {
   "cell_type": "code",
   "execution_count": 5,
   "id": "b398f16c",
   "metadata": {},
   "outputs": [
    {
     "data": {
      "text/plain": [
       "'khoor zruog!'"
      ]
     },
     "execution_count": 5,
     "metadata": {},
     "output_type": "execute_result"
    }
   ],
   "source": [
    "# word = input('Enter the plain text: ')\n",
    "word = 'hello world!'\n",
    "\n",
    "def cipher_encrypt(word, key):\n",
    "    results = ''\n",
    "    if type(key) != int:\n",
    "        return 'The key must be an integer'\n",
    "    else:\n",
    "        for i in word:\n",
    "            # Ignore number, special characters and Spaces\n",
    "            if i.isalpha() == False:\n",
    "                results += i\n",
    "            else:\n",
    "                # ord function to return the number of char\n",
    "                results += chr(ord(i) + int(key))\n",
    "    return results\n",
    "\n",
    "cipher_encrypt(word, 3)\n",
    "# cipher_encrypt(word, 5)"
   ]
  },
  {
   "cell_type": "code",
   "execution_count": 6,
   "id": "c386fbfa",
   "metadata": {},
   "outputs": [
    {
     "data": {
      "text/plain": [
       "'hello world!'"
      ]
     },
     "execution_count": 6,
     "metadata": {},
     "output_type": "execute_result"
    }
   ],
   "source": [
    "encrypted_word = 'khoor zruog!'\n",
    "\n",
    "def cipher_decrypt(word, key):\n",
    "    results = ''\n",
    "    if type(key) != int:\n",
    "        return 'The key must be an integer'\n",
    "    else:\n",
    "        for i in word:\n",
    "            # Ignore number, special characters and Spaces\n",
    "            if i.isalpha() == False:\n",
    "                results += i\n",
    "            else:\n",
    "                # ord function to return the number of char\n",
    "                results += chr(ord(i) - int(key))\n",
    "    return results\n",
    "\n",
    "cipher_decrypt(encrypted_word, 3)"
   ]
  },
  {
   "cell_type": "markdown",
   "id": "82835277",
   "metadata": {},
   "source": [
    "# Part 2"
   ]
  },
  {
   "cell_type": "markdown",
   "id": "6926ce3a",
   "metadata": {},
   "source": [
    "### 1. Import necessary libraries and read the provided dataset (online_sales.csv). (1 point)"
   ]
  },
  {
   "cell_type": "code",
   "execution_count": 7,
   "id": "1ac706a6",
   "metadata": {},
   "outputs": [],
   "source": [
    "import pandas as pd\n",
    "import seaborn as sns   # Why sns?  It's a reference to The West Wing\n",
    "import matplotlib.pyplot as plt  # seaborn is based on matplotlib\n",
    "sns.set(color_codes=True) # adds a nice background to the graphs\n",
    "%matplotlib inline\n",
    "import os"
   ]
  },
  {
   "cell_type": "code",
   "execution_count": 8,
   "id": "e501e17e",
   "metadata": {},
   "outputs": [
    {
     "data": {
      "text/html": [
       "<div>\n",
       "<style scoped>\n",
       "    .dataframe tbody tr th:only-of-type {\n",
       "        vertical-align: middle;\n",
       "    }\n",
       "\n",
       "    .dataframe tbody tr th {\n",
       "        vertical-align: top;\n",
       "    }\n",
       "\n",
       "    .dataframe thead th {\n",
       "        text-align: right;\n",
       "    }\n",
       "</style>\n",
       "<table border=\"1\" class=\"dataframe\">\n",
       "  <thead>\n",
       "    <tr style=\"text-align: right;\">\n",
       "      <th></th>\n",
       "      <th>InvoiceNo</th>\n",
       "      <th>StockCode</th>\n",
       "      <th>Description</th>\n",
       "      <th>Quantity</th>\n",
       "      <th>InvoiceDate</th>\n",
       "      <th>UnitPrice</th>\n",
       "      <th>CustomerID</th>\n",
       "      <th>Country</th>\n",
       "    </tr>\n",
       "  </thead>\n",
       "  <tbody>\n",
       "    <tr>\n",
       "      <th>0</th>\n",
       "      <td>536365</td>\n",
       "      <td>85123A</td>\n",
       "      <td>WHITE HANGING HEART T-LIGHT HOLDER</td>\n",
       "      <td>6</td>\n",
       "      <td>12/1/10 8:26</td>\n",
       "      <td>2.55</td>\n",
       "      <td>17850.0</td>\n",
       "      <td>United Kingdom</td>\n",
       "    </tr>\n",
       "    <tr>\n",
       "      <th>1</th>\n",
       "      <td>536365</td>\n",
       "      <td>71053</td>\n",
       "      <td>WHITE METAL LANTERN</td>\n",
       "      <td>6</td>\n",
       "      <td>12/1/10 8:26</td>\n",
       "      <td>3.39</td>\n",
       "      <td>17850.0</td>\n",
       "      <td>United Kingdom</td>\n",
       "    </tr>\n",
       "    <tr>\n",
       "      <th>2</th>\n",
       "      <td>536365</td>\n",
       "      <td>84406B</td>\n",
       "      <td>CREAM CUPID HEARTS COAT HANGER</td>\n",
       "      <td>8</td>\n",
       "      <td>12/1/10 8:26</td>\n",
       "      <td>2.75</td>\n",
       "      <td>17850.0</td>\n",
       "      <td>United Kingdom</td>\n",
       "    </tr>\n",
       "    <tr>\n",
       "      <th>3</th>\n",
       "      <td>536365</td>\n",
       "      <td>84029G</td>\n",
       "      <td>KNITTED UNION FLAG HOT WATER BOTTLE</td>\n",
       "      <td>6</td>\n",
       "      <td>12/1/10 8:26</td>\n",
       "      <td>3.39</td>\n",
       "      <td>17850.0</td>\n",
       "      <td>United Kingdom</td>\n",
       "    </tr>\n",
       "    <tr>\n",
       "      <th>4</th>\n",
       "      <td>536365</td>\n",
       "      <td>84029E</td>\n",
       "      <td>RED WOOLLY HOTTIE WHITE HEART.</td>\n",
       "      <td>6</td>\n",
       "      <td>12/1/10 8:26</td>\n",
       "      <td>3.39</td>\n",
       "      <td>17850.0</td>\n",
       "      <td>United Kingdom</td>\n",
       "    </tr>\n",
       "    <tr>\n",
       "      <th>...</th>\n",
       "      <td>...</td>\n",
       "      <td>...</td>\n",
       "      <td>...</td>\n",
       "      <td>...</td>\n",
       "      <td>...</td>\n",
       "      <td>...</td>\n",
       "      <td>...</td>\n",
       "      <td>...</td>\n",
       "    </tr>\n",
       "    <tr>\n",
       "      <th>240002</th>\n",
       "      <td>558077</td>\n",
       "      <td>47590A</td>\n",
       "      <td>BLUE HAPPY BIRTHDAY BUNTING</td>\n",
       "      <td>12</td>\n",
       "      <td>6/26/11 10:59</td>\n",
       "      <td>5.45</td>\n",
       "      <td>13408.0</td>\n",
       "      <td>United Kingdom</td>\n",
       "    </tr>\n",
       "    <tr>\n",
       "      <th>240003</th>\n",
       "      <td>558077</td>\n",
       "      <td>82600</td>\n",
       "      <td>NO SINGING METAL SIGN</td>\n",
       "      <td>12</td>\n",
       "      <td>6/26/11 10:59</td>\n",
       "      <td>2.10</td>\n",
       "      <td>13408.0</td>\n",
       "      <td>United Kingdom</td>\n",
       "    </tr>\n",
       "    <tr>\n",
       "      <th>240004</th>\n",
       "      <td>558077</td>\n",
       "      <td>85123A</td>\n",
       "      <td>WHITE HANGING HEART T-LIGHT HOLDER</td>\n",
       "      <td>32</td>\n",
       "      <td>6/26/11 10:59</td>\n",
       "      <td>2.55</td>\n",
       "      <td>13408.0</td>\n",
       "      <td>United Kingdom</td>\n",
       "    </tr>\n",
       "    <tr>\n",
       "      <th>240005</th>\n",
       "      <td>558077</td>\n",
       "      <td>22746</td>\n",
       "      <td>POPPY'S PLAYHOUSE LIVINGROOM</td>\n",
       "      <td>12</td>\n",
       "      <td>6/26/11 10:59</td>\n",
       "      <td>2.10</td>\n",
       "      <td>13408.0</td>\n",
       "      <td>United Kingdom</td>\n",
       "    </tr>\n",
       "    <tr>\n",
       "      <th>240006</th>\n",
       "      <td>558077</td>\n",
       "      <td>23251</td>\n",
       "      <td>VINTAGE RED ENAMEL TRIM MUG</td>\n",
       "      <td>12</td>\n",
       "      <td>6/26/11 10:59</td>\n",
       "      <td>1.25</td>\n",
       "      <td>13408.0</td>\n",
       "      <td>Unit</td>\n",
       "    </tr>\n",
       "  </tbody>\n",
       "</table>\n",
       "<p>240007 rows × 8 columns</p>\n",
       "</div>"
      ],
      "text/plain": [
       "       InvoiceNo StockCode                          Description  Quantity  \\\n",
       "0         536365    85123A   WHITE HANGING HEART T-LIGHT HOLDER         6   \n",
       "1         536365     71053                  WHITE METAL LANTERN         6   \n",
       "2         536365    84406B       CREAM CUPID HEARTS COAT HANGER         8   \n",
       "3         536365    84029G  KNITTED UNION FLAG HOT WATER BOTTLE         6   \n",
       "4         536365    84029E       RED WOOLLY HOTTIE WHITE HEART.         6   \n",
       "...          ...       ...                                  ...       ...   \n",
       "240002    558077    47590A          BLUE HAPPY BIRTHDAY BUNTING        12   \n",
       "240003    558077     82600                NO SINGING METAL SIGN        12   \n",
       "240004    558077    85123A   WHITE HANGING HEART T-LIGHT HOLDER        32   \n",
       "240005    558077     22746        POPPY'S PLAYHOUSE LIVINGROOM         12   \n",
       "240006    558077     23251         VINTAGE RED ENAMEL TRIM MUG         12   \n",
       "\n",
       "          InvoiceDate  UnitPrice  CustomerID         Country  \n",
       "0        12/1/10 8:26       2.55     17850.0  United Kingdom  \n",
       "1        12/1/10 8:26       3.39     17850.0  United Kingdom  \n",
       "2        12/1/10 8:26       2.75     17850.0  United Kingdom  \n",
       "3        12/1/10 8:26       3.39     17850.0  United Kingdom  \n",
       "4        12/1/10 8:26       3.39     17850.0  United Kingdom  \n",
       "...               ...        ...         ...             ...  \n",
       "240002  6/26/11 10:59       5.45     13408.0  United Kingdom  \n",
       "240003  6/26/11 10:59       2.10     13408.0  United Kingdom  \n",
       "240004  6/26/11 10:59       2.55     13408.0  United Kingdom  \n",
       "240005  6/26/11 10:59       2.10     13408.0  United Kingdom  \n",
       "240006  6/26/11 10:59       1.25     13408.0            Unit  \n",
       "\n",
       "[240007 rows x 8 columns]"
      ]
     },
     "execution_count": 8,
     "metadata": {},
     "output_type": "execute_result"
    }
   ],
   "source": [
    "df = pd.read_csv('online_sales.csv')\n",
    "df"
   ]
  },
  {
   "cell_type": "markdown",
   "id": "73983370",
   "metadata": {},
   "source": [
    "### 2. Check top 5 and random 5 samples of the dataframe. (1 point)\n"
   ]
  },
  {
   "cell_type": "code",
   "execution_count": 9,
   "id": "7fa8af42",
   "metadata": {},
   "outputs": [
    {
     "data": {
      "text/html": [
       "<div>\n",
       "<style scoped>\n",
       "    .dataframe tbody tr th:only-of-type {\n",
       "        vertical-align: middle;\n",
       "    }\n",
       "\n",
       "    .dataframe tbody tr th {\n",
       "        vertical-align: top;\n",
       "    }\n",
       "\n",
       "    .dataframe thead th {\n",
       "        text-align: right;\n",
       "    }\n",
       "</style>\n",
       "<table border=\"1\" class=\"dataframe\">\n",
       "  <thead>\n",
       "    <tr style=\"text-align: right;\">\n",
       "      <th></th>\n",
       "      <th>InvoiceNo</th>\n",
       "      <th>StockCode</th>\n",
       "      <th>Description</th>\n",
       "      <th>Quantity</th>\n",
       "      <th>InvoiceDate</th>\n",
       "      <th>UnitPrice</th>\n",
       "      <th>CustomerID</th>\n",
       "      <th>Country</th>\n",
       "    </tr>\n",
       "  </thead>\n",
       "  <tbody>\n",
       "    <tr>\n",
       "      <th>0</th>\n",
       "      <td>536365</td>\n",
       "      <td>85123A</td>\n",
       "      <td>WHITE HANGING HEART T-LIGHT HOLDER</td>\n",
       "      <td>6</td>\n",
       "      <td>12/1/10 8:26</td>\n",
       "      <td>2.55</td>\n",
       "      <td>17850.0</td>\n",
       "      <td>United Kingdom</td>\n",
       "    </tr>\n",
       "    <tr>\n",
       "      <th>1</th>\n",
       "      <td>536365</td>\n",
       "      <td>71053</td>\n",
       "      <td>WHITE METAL LANTERN</td>\n",
       "      <td>6</td>\n",
       "      <td>12/1/10 8:26</td>\n",
       "      <td>3.39</td>\n",
       "      <td>17850.0</td>\n",
       "      <td>United Kingdom</td>\n",
       "    </tr>\n",
       "    <tr>\n",
       "      <th>2</th>\n",
       "      <td>536365</td>\n",
       "      <td>84406B</td>\n",
       "      <td>CREAM CUPID HEARTS COAT HANGER</td>\n",
       "      <td>8</td>\n",
       "      <td>12/1/10 8:26</td>\n",
       "      <td>2.75</td>\n",
       "      <td>17850.0</td>\n",
       "      <td>United Kingdom</td>\n",
       "    </tr>\n",
       "    <tr>\n",
       "      <th>3</th>\n",
       "      <td>536365</td>\n",
       "      <td>84029G</td>\n",
       "      <td>KNITTED UNION FLAG HOT WATER BOTTLE</td>\n",
       "      <td>6</td>\n",
       "      <td>12/1/10 8:26</td>\n",
       "      <td>3.39</td>\n",
       "      <td>17850.0</td>\n",
       "      <td>United Kingdom</td>\n",
       "    </tr>\n",
       "    <tr>\n",
       "      <th>4</th>\n",
       "      <td>536365</td>\n",
       "      <td>84029E</td>\n",
       "      <td>RED WOOLLY HOTTIE WHITE HEART.</td>\n",
       "      <td>6</td>\n",
       "      <td>12/1/10 8:26</td>\n",
       "      <td>3.39</td>\n",
       "      <td>17850.0</td>\n",
       "      <td>United Kingdom</td>\n",
       "    </tr>\n",
       "  </tbody>\n",
       "</table>\n",
       "</div>"
      ],
      "text/plain": [
       "  InvoiceNo StockCode                          Description  Quantity  \\\n",
       "0    536365    85123A   WHITE HANGING HEART T-LIGHT HOLDER         6   \n",
       "1    536365     71053                  WHITE METAL LANTERN         6   \n",
       "2    536365    84406B       CREAM CUPID HEARTS COAT HANGER         8   \n",
       "3    536365    84029G  KNITTED UNION FLAG HOT WATER BOTTLE         6   \n",
       "4    536365    84029E       RED WOOLLY HOTTIE WHITE HEART.         6   \n",
       "\n",
       "    InvoiceDate  UnitPrice  CustomerID         Country  \n",
       "0  12/1/10 8:26       2.55     17850.0  United Kingdom  \n",
       "1  12/1/10 8:26       3.39     17850.0  United Kingdom  \n",
       "2  12/1/10 8:26       2.75     17850.0  United Kingdom  \n",
       "3  12/1/10 8:26       3.39     17850.0  United Kingdom  \n",
       "4  12/1/10 8:26       3.39     17850.0  United Kingdom  "
      ]
     },
     "execution_count": 9,
     "metadata": {},
     "output_type": "execute_result"
    }
   ],
   "source": [
    "df.head()"
   ]
  },
  {
   "cell_type": "code",
   "execution_count": 10,
   "id": "1838de4c",
   "metadata": {},
   "outputs": [
    {
     "data": {
      "text/html": [
       "<div>\n",
       "<style scoped>\n",
       "    .dataframe tbody tr th:only-of-type {\n",
       "        vertical-align: middle;\n",
       "    }\n",
       "\n",
       "    .dataframe tbody tr th {\n",
       "        vertical-align: top;\n",
       "    }\n",
       "\n",
       "    .dataframe thead th {\n",
       "        text-align: right;\n",
       "    }\n",
       "</style>\n",
       "<table border=\"1\" class=\"dataframe\">\n",
       "  <thead>\n",
       "    <tr style=\"text-align: right;\">\n",
       "      <th></th>\n",
       "      <th>InvoiceNo</th>\n",
       "      <th>StockCode</th>\n",
       "      <th>Description</th>\n",
       "      <th>Quantity</th>\n",
       "      <th>InvoiceDate</th>\n",
       "      <th>UnitPrice</th>\n",
       "      <th>CustomerID</th>\n",
       "      <th>Country</th>\n",
       "    </tr>\n",
       "  </thead>\n",
       "  <tbody>\n",
       "    <tr>\n",
       "      <th>136775</th>\n",
       "      <td>547985</td>\n",
       "      <td>22078</td>\n",
       "      <td>RIBBON REEL LACE DESIGN</td>\n",
       "      <td>10</td>\n",
       "      <td>3/29/11 8:43</td>\n",
       "      <td>2.10</td>\n",
       "      <td>16455.0</td>\n",
       "      <td>United Kingdom</td>\n",
       "    </tr>\n",
       "    <tr>\n",
       "      <th>49181</th>\n",
       "      <td>540506</td>\n",
       "      <td>85114C</td>\n",
       "      <td>RED ENCHANTED FOREST PLACEMAT</td>\n",
       "      <td>1</td>\n",
       "      <td>1/9/11 11:12</td>\n",
       "      <td>1.65</td>\n",
       "      <td>17796.0</td>\n",
       "      <td>United Kingdom</td>\n",
       "    </tr>\n",
       "    <tr>\n",
       "      <th>37890</th>\n",
       "      <td>539487</td>\n",
       "      <td>21843</td>\n",
       "      <td>RED RETROSPOT CAKE STAND</td>\n",
       "      <td>2</td>\n",
       "      <td>12/20/10 9:22</td>\n",
       "      <td>10.95</td>\n",
       "      <td>16153.0</td>\n",
       "      <td>United Kingdom</td>\n",
       "    </tr>\n",
       "    <tr>\n",
       "      <th>207184</th>\n",
       "      <td>554978</td>\n",
       "      <td>22728</td>\n",
       "      <td>ALARM CLOCK BAKELIKE PINK</td>\n",
       "      <td>2</td>\n",
       "      <td>5/29/11 11:05</td>\n",
       "      <td>3.75</td>\n",
       "      <td>16889.0</td>\n",
       "      <td>United Kingdom</td>\n",
       "    </tr>\n",
       "    <tr>\n",
       "      <th>185607</th>\n",
       "      <td>552822</td>\n",
       "      <td>22278</td>\n",
       "      <td>OVERNIGHT BAG VINTAGE ROSE PAISLEY</td>\n",
       "      <td>1</td>\n",
       "      <td>5/11/11 12:59</td>\n",
       "      <td>4.95</td>\n",
       "      <td>15521.0</td>\n",
       "      <td>United Kingdom</td>\n",
       "    </tr>\n",
       "  </tbody>\n",
       "</table>\n",
       "</div>"
      ],
      "text/plain": [
       "       InvoiceNo StockCode                         Description  Quantity  \\\n",
       "136775    547985     22078            RIBBON REEL LACE DESIGN         10   \n",
       "49181     540506    85114C       RED ENCHANTED FOREST PLACEMAT         1   \n",
       "37890     539487     21843            RED RETROSPOT CAKE STAND         2   \n",
       "207184    554978     22728           ALARM CLOCK BAKELIKE PINK         2   \n",
       "185607    552822     22278  OVERNIGHT BAG VINTAGE ROSE PAISLEY         1   \n",
       "\n",
       "          InvoiceDate  UnitPrice  CustomerID         Country  \n",
       "136775   3/29/11 8:43       2.10     16455.0  United Kingdom  \n",
       "49181    1/9/11 11:12       1.65     17796.0  United Kingdom  \n",
       "37890   12/20/10 9:22      10.95     16153.0  United Kingdom  \n",
       "207184  5/29/11 11:05       3.75     16889.0  United Kingdom  \n",
       "185607  5/11/11 12:59       4.95     15521.0  United Kingdom  "
      ]
     },
     "execution_count": 10,
     "metadata": {},
     "output_type": "execute_result"
    }
   ],
   "source": [
    "df.sample(n=5)"
   ]
  },
  {
   "cell_type": "markdown",
   "id": "a814e07b",
   "metadata": {},
   "source": [
    "### 3. Check info of the dataframe and write your observations. Comment on data types and shape of the dataset. (1 points)"
   ]
  },
  {
   "cell_type": "code",
   "execution_count": 11,
   "id": "bdc5a2ad",
   "metadata": {},
   "outputs": [
    {
     "name": "stdout",
     "output_type": "stream",
     "text": [
      "<class 'pandas.core.frame.DataFrame'>\n",
      "RangeIndex: 240007 entries, 0 to 240006\n",
      "Data columns (total 8 columns):\n",
      " #   Column       Non-Null Count   Dtype  \n",
      "---  ------       --------------   -----  \n",
      " 0   InvoiceNo    240007 non-null  object \n",
      " 1   StockCode    240007 non-null  object \n",
      " 2   Description  239106 non-null  object \n",
      " 3   Quantity     240007 non-null  int64  \n",
      " 4   InvoiceDate  240007 non-null  object \n",
      " 5   UnitPrice    240007 non-null  float64\n",
      " 6   CustomerID   172782 non-null  float64\n",
      " 7   Country      240007 non-null  object \n",
      "dtypes: float64(2), int64(1), object(5)\n",
      "memory usage: 14.6+ MB\n"
     ]
    }
   ],
   "source": [
    "df.info()"
   ]
  },
  {
   "cell_type": "markdown",
   "id": "cd84e09a",
   "metadata": {},
   "source": [
    "1- I found that the there is 240007 rows and there is some values of is missing in the following columns (Description, CustomerID )<br>\n",
    "2- There is Categorical columns (Country, InvoiceNo, CustomerID, StockCode)<br>\n",
    "3- There is numeric columns (UnitPrice, Quantity)<br>"
   ]
  },
  {
   "cell_type": "code",
   "execution_count": 12,
   "id": "55d6f205",
   "metadata": {},
   "outputs": [
    {
     "data": {
      "text/plain": [
       "(240007, 8)"
      ]
     },
     "execution_count": 12,
     "metadata": {},
     "output_type": "execute_result"
    }
   ],
   "source": [
    "df.shape"
   ]
  },
  {
   "cell_type": "markdown",
   "id": "b9dbf59e",
   "metadata": {},
   "source": [
    "There is 240007 row and 8 columns in the Dataframe"
   ]
  },
  {
   "cell_type": "markdown",
   "id": "c8f35786",
   "metadata": {},
   "source": [
    "### 4. Check for null values and report the percentage of null values of each column. And drop the rows having null values in it. (1 points)"
   ]
  },
  {
   "cell_type": "code",
   "execution_count": 13,
   "id": "bbc9cea9",
   "metadata": {},
   "outputs": [
    {
     "data": {
      "text/plain": [
       "InvoiceNo       0.000000\n",
       "StockCode       0.000000\n",
       "Description     0.375406\n",
       "Quantity        0.000000\n",
       "InvoiceDate     0.000000\n",
       "UnitPrice       0.000000\n",
       "CustomerID     28.009600\n",
       "Country         0.000000\n",
       "dtype: float64"
      ]
     },
     "execution_count": 13,
     "metadata": {},
     "output_type": "execute_result"
    }
   ],
   "source": [
    "df.isnull().sum() * 100 / len(df)"
   ]
  },
  {
   "cell_type": "code",
   "execution_count": 14,
   "id": "85d66e55",
   "metadata": {},
   "outputs": [],
   "source": [
    "df = df.dropna() #drop null values"
   ]
  },
  {
   "cell_type": "markdown",
   "id": "a8a5d7be",
   "metadata": {},
   "source": [
    "### 5. Check statistical summary of the dataset. (1 point)"
   ]
  },
  {
   "cell_type": "code",
   "execution_count": 15,
   "id": "1a0d1fc6",
   "metadata": {},
   "outputs": [
    {
     "data": {
      "text/html": [
       "<div>\n",
       "<style scoped>\n",
       "    .dataframe tbody tr th:only-of-type {\n",
       "        vertical-align: middle;\n",
       "    }\n",
       "\n",
       "    .dataframe tbody tr th {\n",
       "        vertical-align: top;\n",
       "    }\n",
       "\n",
       "    .dataframe thead th {\n",
       "        text-align: right;\n",
       "    }\n",
       "</style>\n",
       "<table border=\"1\" class=\"dataframe\">\n",
       "  <thead>\n",
       "    <tr style=\"text-align: right;\">\n",
       "      <th></th>\n",
       "      <th>count</th>\n",
       "      <th>mean</th>\n",
       "      <th>std</th>\n",
       "      <th>min</th>\n",
       "      <th>25%</th>\n",
       "      <th>50%</th>\n",
       "      <th>75%</th>\n",
       "      <th>max</th>\n",
       "    </tr>\n",
       "  </thead>\n",
       "  <tbody>\n",
       "    <tr>\n",
       "      <th>Quantity</th>\n",
       "      <td>172782.0</td>\n",
       "      <td>12.244835</td>\n",
       "      <td>257.898235</td>\n",
       "      <td>-74215.0</td>\n",
       "      <td>2.00</td>\n",
       "      <td>5.00</td>\n",
       "      <td>12.00</td>\n",
       "      <td>74215.0</td>\n",
       "    </tr>\n",
       "    <tr>\n",
       "      <th>UnitPrice</th>\n",
       "      <td>172782.0</td>\n",
       "      <td>3.793566</td>\n",
       "      <td>101.069930</td>\n",
       "      <td>0.0</td>\n",
       "      <td>1.25</td>\n",
       "      <td>1.95</td>\n",
       "      <td>3.75</td>\n",
       "      <td>38970.0</td>\n",
       "    </tr>\n",
       "    <tr>\n",
       "      <th>CustomerID</th>\n",
       "      <td>172782.0</td>\n",
       "      <td>15274.819941</td>\n",
       "      <td>1725.093177</td>\n",
       "      <td>12346.0</td>\n",
       "      <td>13842.00</td>\n",
       "      <td>15132.00</td>\n",
       "      <td>16814.00</td>\n",
       "      <td>18287.0</td>\n",
       "    </tr>\n",
       "  </tbody>\n",
       "</table>\n",
       "</div>"
      ],
      "text/plain": [
       "               count          mean          std      min       25%       50%  \\\n",
       "Quantity    172782.0     12.244835   257.898235 -74215.0      2.00      5.00   \n",
       "UnitPrice   172782.0      3.793566   101.069930      0.0      1.25      1.95   \n",
       "CustomerID  172782.0  15274.819941  1725.093177  12346.0  13842.00  15132.00   \n",
       "\n",
       "                 75%      max  \n",
       "Quantity       12.00  74215.0  \n",
       "UnitPrice       3.75  38970.0  \n",
       "CustomerID  16814.00  18287.0  "
      ]
     },
     "execution_count": 15,
     "metadata": {},
     "output_type": "execute_result"
    }
   ],
   "source": [
    "df.describe().T"
   ]
  },
  {
   "cell_type": "markdown",
   "id": "5ed5d074",
   "metadata": {},
   "source": [
    "### 6. Drop the instances having quantity less than zero. (1 point)"
   ]
  },
  {
   "cell_type": "code",
   "execution_count": 16,
   "id": "d0e349a4",
   "metadata": {},
   "outputs": [
    {
     "data": {
      "text/html": [
       "<div>\n",
       "<style scoped>\n",
       "    .dataframe tbody tr th:only-of-type {\n",
       "        vertical-align: middle;\n",
       "    }\n",
       "\n",
       "    .dataframe tbody tr th {\n",
       "        vertical-align: top;\n",
       "    }\n",
       "\n",
       "    .dataframe thead th {\n",
       "        text-align: right;\n",
       "    }\n",
       "</style>\n",
       "<table border=\"1\" class=\"dataframe\">\n",
       "  <thead>\n",
       "    <tr style=\"text-align: right;\">\n",
       "      <th></th>\n",
       "      <th>InvoiceNo</th>\n",
       "      <th>StockCode</th>\n",
       "      <th>Description</th>\n",
       "      <th>Quantity</th>\n",
       "      <th>InvoiceDate</th>\n",
       "      <th>UnitPrice</th>\n",
       "      <th>CustomerID</th>\n",
       "      <th>Country</th>\n",
       "    </tr>\n",
       "  </thead>\n",
       "  <tbody>\n",
       "    <tr>\n",
       "      <th>0</th>\n",
       "      <td>536365</td>\n",
       "      <td>85123A</td>\n",
       "      <td>WHITE HANGING HEART T-LIGHT HOLDER</td>\n",
       "      <td>6</td>\n",
       "      <td>12/1/10 8:26</td>\n",
       "      <td>2.55</td>\n",
       "      <td>17850.0</td>\n",
       "      <td>United Kingdom</td>\n",
       "    </tr>\n",
       "    <tr>\n",
       "      <th>1</th>\n",
       "      <td>536365</td>\n",
       "      <td>71053</td>\n",
       "      <td>WHITE METAL LANTERN</td>\n",
       "      <td>6</td>\n",
       "      <td>12/1/10 8:26</td>\n",
       "      <td>3.39</td>\n",
       "      <td>17850.0</td>\n",
       "      <td>United Kingdom</td>\n",
       "    </tr>\n",
       "    <tr>\n",
       "      <th>2</th>\n",
       "      <td>536365</td>\n",
       "      <td>84406B</td>\n",
       "      <td>CREAM CUPID HEARTS COAT HANGER</td>\n",
       "      <td>8</td>\n",
       "      <td>12/1/10 8:26</td>\n",
       "      <td>2.75</td>\n",
       "      <td>17850.0</td>\n",
       "      <td>United Kingdom</td>\n",
       "    </tr>\n",
       "    <tr>\n",
       "      <th>3</th>\n",
       "      <td>536365</td>\n",
       "      <td>84029G</td>\n",
       "      <td>KNITTED UNION FLAG HOT WATER BOTTLE</td>\n",
       "      <td>6</td>\n",
       "      <td>12/1/10 8:26</td>\n",
       "      <td>3.39</td>\n",
       "      <td>17850.0</td>\n",
       "      <td>United Kingdom</td>\n",
       "    </tr>\n",
       "    <tr>\n",
       "      <th>4</th>\n",
       "      <td>536365</td>\n",
       "      <td>84029E</td>\n",
       "      <td>RED WOOLLY HOTTIE WHITE HEART.</td>\n",
       "      <td>6</td>\n",
       "      <td>12/1/10 8:26</td>\n",
       "      <td>3.39</td>\n",
       "      <td>17850.0</td>\n",
       "      <td>United Kingdom</td>\n",
       "    </tr>\n",
       "    <tr>\n",
       "      <th>...</th>\n",
       "      <td>...</td>\n",
       "      <td>...</td>\n",
       "      <td>...</td>\n",
       "      <td>...</td>\n",
       "      <td>...</td>\n",
       "      <td>...</td>\n",
       "      <td>...</td>\n",
       "      <td>...</td>\n",
       "    </tr>\n",
       "    <tr>\n",
       "      <th>240002</th>\n",
       "      <td>558077</td>\n",
       "      <td>47590A</td>\n",
       "      <td>BLUE HAPPY BIRTHDAY BUNTING</td>\n",
       "      <td>12</td>\n",
       "      <td>6/26/11 10:59</td>\n",
       "      <td>5.45</td>\n",
       "      <td>13408.0</td>\n",
       "      <td>United Kingdom</td>\n",
       "    </tr>\n",
       "    <tr>\n",
       "      <th>240003</th>\n",
       "      <td>558077</td>\n",
       "      <td>82600</td>\n",
       "      <td>NO SINGING METAL SIGN</td>\n",
       "      <td>12</td>\n",
       "      <td>6/26/11 10:59</td>\n",
       "      <td>2.10</td>\n",
       "      <td>13408.0</td>\n",
       "      <td>United Kingdom</td>\n",
       "    </tr>\n",
       "    <tr>\n",
       "      <th>240004</th>\n",
       "      <td>558077</td>\n",
       "      <td>85123A</td>\n",
       "      <td>WHITE HANGING HEART T-LIGHT HOLDER</td>\n",
       "      <td>32</td>\n",
       "      <td>6/26/11 10:59</td>\n",
       "      <td>2.55</td>\n",
       "      <td>13408.0</td>\n",
       "      <td>United Kingdom</td>\n",
       "    </tr>\n",
       "    <tr>\n",
       "      <th>240005</th>\n",
       "      <td>558077</td>\n",
       "      <td>22746</td>\n",
       "      <td>POPPY'S PLAYHOUSE LIVINGROOM</td>\n",
       "      <td>12</td>\n",
       "      <td>6/26/11 10:59</td>\n",
       "      <td>2.10</td>\n",
       "      <td>13408.0</td>\n",
       "      <td>United Kingdom</td>\n",
       "    </tr>\n",
       "    <tr>\n",
       "      <th>240006</th>\n",
       "      <td>558077</td>\n",
       "      <td>23251</td>\n",
       "      <td>VINTAGE RED ENAMEL TRIM MUG</td>\n",
       "      <td>12</td>\n",
       "      <td>6/26/11 10:59</td>\n",
       "      <td>1.25</td>\n",
       "      <td>13408.0</td>\n",
       "      <td>Unit</td>\n",
       "    </tr>\n",
       "  </tbody>\n",
       "</table>\n",
       "<p>168675 rows × 8 columns</p>\n",
       "</div>"
      ],
      "text/plain": [
       "       InvoiceNo StockCode                          Description  Quantity  \\\n",
       "0         536365    85123A   WHITE HANGING HEART T-LIGHT HOLDER         6   \n",
       "1         536365     71053                  WHITE METAL LANTERN         6   \n",
       "2         536365    84406B       CREAM CUPID HEARTS COAT HANGER         8   \n",
       "3         536365    84029G  KNITTED UNION FLAG HOT WATER BOTTLE         6   \n",
       "4         536365    84029E       RED WOOLLY HOTTIE WHITE HEART.         6   \n",
       "...          ...       ...                                  ...       ...   \n",
       "240002    558077    47590A          BLUE HAPPY BIRTHDAY BUNTING        12   \n",
       "240003    558077     82600                NO SINGING METAL SIGN        12   \n",
       "240004    558077    85123A   WHITE HANGING HEART T-LIGHT HOLDER        32   \n",
       "240005    558077     22746        POPPY'S PLAYHOUSE LIVINGROOM         12   \n",
       "240006    558077     23251         VINTAGE RED ENAMEL TRIM MUG         12   \n",
       "\n",
       "          InvoiceDate  UnitPrice  CustomerID         Country  \n",
       "0        12/1/10 8:26       2.55     17850.0  United Kingdom  \n",
       "1        12/1/10 8:26       3.39     17850.0  United Kingdom  \n",
       "2        12/1/10 8:26       2.75     17850.0  United Kingdom  \n",
       "3        12/1/10 8:26       3.39     17850.0  United Kingdom  \n",
       "4        12/1/10 8:26       3.39     17850.0  United Kingdom  \n",
       "...               ...        ...         ...             ...  \n",
       "240002  6/26/11 10:59       5.45     13408.0  United Kingdom  \n",
       "240003  6/26/11 10:59       2.10     13408.0  United Kingdom  \n",
       "240004  6/26/11 10:59       2.55     13408.0  United Kingdom  \n",
       "240005  6/26/11 10:59       2.10     13408.0  United Kingdom  \n",
       "240006  6/26/11 10:59       1.25     13408.0            Unit  \n",
       "\n",
       "[168675 rows x 8 columns]"
      ]
     },
     "execution_count": 16,
     "metadata": {},
     "output_type": "execute_result"
    }
   ],
   "source": [
    "df = df.drop(df[df['Quantity'] < 0].index, axis=0)\n",
    "df"
   ]
  },
  {
   "cell_type": "markdown",
   "id": "2a5e5a88",
   "metadata": {},
   "source": [
    "### 7. Check unique values of the country and report the name of the country that has the highest number of instances. (2 points)"
   ]
  },
  {
   "cell_type": "code",
   "execution_count": 17,
   "id": "e82c344a",
   "metadata": {},
   "outputs": [
    {
     "data": {
      "text/plain": [
       "United Kingdom          150046\n",
       "Germany                   3958\n",
       "France                    3562\n",
       "EIRE                      2650\n",
       "Netherlands               1139\n",
       "Spain                     1131\n",
       "Belgium                    914\n",
       "Switzerland                697\n",
       "Australia                  630\n",
       "Portugal                   610\n",
       "Norway                     368\n",
       "Channel Islands            363\n",
       "Cyprus                     350\n",
       "Finland                    307\n",
       "Italy                      299\n",
       "Japan                      230\n",
       "Sweden                     195\n",
       "Denmark                    184\n",
       "Poland                     180\n",
       "Austria                    124\n",
       "Singapore                  113\n",
       "Iceland                    102\n",
       "Greece                      85\n",
       "Unspecified                 72\n",
       "Canada                      68\n",
       "Lebanon                     45\n",
       "Malta                       45\n",
       "Lithuania                   35\n",
       "Brazil                      32\n",
       "European Community          31\n",
       "United Arab Emirates        30\n",
       "USA                         22\n",
       "Bahrain                     17\n",
       "Israel                      16\n",
       "Czech Republic              15\n",
       "Saudi Arabia                 9\n",
       "Unit                         1\n",
       "Name: Country, dtype: int64"
      ]
     },
     "execution_count": 17,
     "metadata": {},
     "output_type": "execute_result"
    }
   ],
   "source": [
    "df['Country'].value_counts()"
   ]
  },
  {
   "cell_type": "code",
   "execution_count": 18,
   "id": "fc52ebeb",
   "metadata": {},
   "outputs": [
    {
     "data": {
      "text/plain": [
       "'United Kingdom'"
      ]
     },
     "execution_count": 18,
     "metadata": {},
     "output_type": "execute_result"
    }
   ],
   "source": [
    "df['Country'].value_counts().idxmax() #the country that has the highest number of instances"
   ]
  },
  {
   "cell_type": "markdown",
   "id": "d3df3110",
   "metadata": {},
   "source": [
    "### 8. Create a new column with the name as ‘sales’ having total sales. The total sales is defined as Quantity*UnitPrice. (3 points)"
   ]
  },
  {
   "cell_type": "code",
   "execution_count": 19,
   "id": "acb00016",
   "metadata": {},
   "outputs": [
    {
     "data": {
      "text/html": [
       "<div>\n",
       "<style scoped>\n",
       "    .dataframe tbody tr th:only-of-type {\n",
       "        vertical-align: middle;\n",
       "    }\n",
       "\n",
       "    .dataframe tbody tr th {\n",
       "        vertical-align: top;\n",
       "    }\n",
       "\n",
       "    .dataframe thead th {\n",
       "        text-align: right;\n",
       "    }\n",
       "</style>\n",
       "<table border=\"1\" class=\"dataframe\">\n",
       "  <thead>\n",
       "    <tr style=\"text-align: right;\">\n",
       "      <th></th>\n",
       "      <th>InvoiceNo</th>\n",
       "      <th>StockCode</th>\n",
       "      <th>Description</th>\n",
       "      <th>Quantity</th>\n",
       "      <th>InvoiceDate</th>\n",
       "      <th>UnitPrice</th>\n",
       "      <th>CustomerID</th>\n",
       "      <th>Country</th>\n",
       "      <th>sales</th>\n",
       "    </tr>\n",
       "  </thead>\n",
       "  <tbody>\n",
       "    <tr>\n",
       "      <th>0</th>\n",
       "      <td>536365</td>\n",
       "      <td>85123A</td>\n",
       "      <td>WHITE HANGING HEART T-LIGHT HOLDER</td>\n",
       "      <td>6</td>\n",
       "      <td>12/1/10 8:26</td>\n",
       "      <td>2.55</td>\n",
       "      <td>17850.0</td>\n",
       "      <td>United Kingdom</td>\n",
       "      <td>15.30</td>\n",
       "    </tr>\n",
       "    <tr>\n",
       "      <th>1</th>\n",
       "      <td>536365</td>\n",
       "      <td>71053</td>\n",
       "      <td>WHITE METAL LANTERN</td>\n",
       "      <td>6</td>\n",
       "      <td>12/1/10 8:26</td>\n",
       "      <td>3.39</td>\n",
       "      <td>17850.0</td>\n",
       "      <td>United Kingdom</td>\n",
       "      <td>20.34</td>\n",
       "    </tr>\n",
       "    <tr>\n",
       "      <th>2</th>\n",
       "      <td>536365</td>\n",
       "      <td>84406B</td>\n",
       "      <td>CREAM CUPID HEARTS COAT HANGER</td>\n",
       "      <td>8</td>\n",
       "      <td>12/1/10 8:26</td>\n",
       "      <td>2.75</td>\n",
       "      <td>17850.0</td>\n",
       "      <td>United Kingdom</td>\n",
       "      <td>22.00</td>\n",
       "    </tr>\n",
       "    <tr>\n",
       "      <th>3</th>\n",
       "      <td>536365</td>\n",
       "      <td>84029G</td>\n",
       "      <td>KNITTED UNION FLAG HOT WATER BOTTLE</td>\n",
       "      <td>6</td>\n",
       "      <td>12/1/10 8:26</td>\n",
       "      <td>3.39</td>\n",
       "      <td>17850.0</td>\n",
       "      <td>United Kingdom</td>\n",
       "      <td>20.34</td>\n",
       "    </tr>\n",
       "    <tr>\n",
       "      <th>4</th>\n",
       "      <td>536365</td>\n",
       "      <td>84029E</td>\n",
       "      <td>RED WOOLLY HOTTIE WHITE HEART.</td>\n",
       "      <td>6</td>\n",
       "      <td>12/1/10 8:26</td>\n",
       "      <td>3.39</td>\n",
       "      <td>17850.0</td>\n",
       "      <td>United Kingdom</td>\n",
       "      <td>20.34</td>\n",
       "    </tr>\n",
       "    <tr>\n",
       "      <th>...</th>\n",
       "      <td>...</td>\n",
       "      <td>...</td>\n",
       "      <td>...</td>\n",
       "      <td>...</td>\n",
       "      <td>...</td>\n",
       "      <td>...</td>\n",
       "      <td>...</td>\n",
       "      <td>...</td>\n",
       "      <td>...</td>\n",
       "    </tr>\n",
       "    <tr>\n",
       "      <th>240002</th>\n",
       "      <td>558077</td>\n",
       "      <td>47590A</td>\n",
       "      <td>BLUE HAPPY BIRTHDAY BUNTING</td>\n",
       "      <td>12</td>\n",
       "      <td>6/26/11 10:59</td>\n",
       "      <td>5.45</td>\n",
       "      <td>13408.0</td>\n",
       "      <td>United Kingdom</td>\n",
       "      <td>65.40</td>\n",
       "    </tr>\n",
       "    <tr>\n",
       "      <th>240003</th>\n",
       "      <td>558077</td>\n",
       "      <td>82600</td>\n",
       "      <td>NO SINGING METAL SIGN</td>\n",
       "      <td>12</td>\n",
       "      <td>6/26/11 10:59</td>\n",
       "      <td>2.10</td>\n",
       "      <td>13408.0</td>\n",
       "      <td>United Kingdom</td>\n",
       "      <td>25.20</td>\n",
       "    </tr>\n",
       "    <tr>\n",
       "      <th>240004</th>\n",
       "      <td>558077</td>\n",
       "      <td>85123A</td>\n",
       "      <td>WHITE HANGING HEART T-LIGHT HOLDER</td>\n",
       "      <td>32</td>\n",
       "      <td>6/26/11 10:59</td>\n",
       "      <td>2.55</td>\n",
       "      <td>13408.0</td>\n",
       "      <td>United Kingdom</td>\n",
       "      <td>81.60</td>\n",
       "    </tr>\n",
       "    <tr>\n",
       "      <th>240005</th>\n",
       "      <td>558077</td>\n",
       "      <td>22746</td>\n",
       "      <td>POPPY'S PLAYHOUSE LIVINGROOM</td>\n",
       "      <td>12</td>\n",
       "      <td>6/26/11 10:59</td>\n",
       "      <td>2.10</td>\n",
       "      <td>13408.0</td>\n",
       "      <td>United Kingdom</td>\n",
       "      <td>25.20</td>\n",
       "    </tr>\n",
       "    <tr>\n",
       "      <th>240006</th>\n",
       "      <td>558077</td>\n",
       "      <td>23251</td>\n",
       "      <td>VINTAGE RED ENAMEL TRIM MUG</td>\n",
       "      <td>12</td>\n",
       "      <td>6/26/11 10:59</td>\n",
       "      <td>1.25</td>\n",
       "      <td>13408.0</td>\n",
       "      <td>Unit</td>\n",
       "      <td>15.00</td>\n",
       "    </tr>\n",
       "  </tbody>\n",
       "</table>\n",
       "<p>168675 rows × 9 columns</p>\n",
       "</div>"
      ],
      "text/plain": [
       "       InvoiceNo StockCode                          Description  Quantity  \\\n",
       "0         536365    85123A   WHITE HANGING HEART T-LIGHT HOLDER         6   \n",
       "1         536365     71053                  WHITE METAL LANTERN         6   \n",
       "2         536365    84406B       CREAM CUPID HEARTS COAT HANGER         8   \n",
       "3         536365    84029G  KNITTED UNION FLAG HOT WATER BOTTLE         6   \n",
       "4         536365    84029E       RED WOOLLY HOTTIE WHITE HEART.         6   \n",
       "...          ...       ...                                  ...       ...   \n",
       "240002    558077    47590A          BLUE HAPPY BIRTHDAY BUNTING        12   \n",
       "240003    558077     82600                NO SINGING METAL SIGN        12   \n",
       "240004    558077    85123A   WHITE HANGING HEART T-LIGHT HOLDER        32   \n",
       "240005    558077     22746        POPPY'S PLAYHOUSE LIVINGROOM         12   \n",
       "240006    558077     23251         VINTAGE RED ENAMEL TRIM MUG         12   \n",
       "\n",
       "          InvoiceDate  UnitPrice  CustomerID         Country  sales  \n",
       "0        12/1/10 8:26       2.55     17850.0  United Kingdom  15.30  \n",
       "1        12/1/10 8:26       3.39     17850.0  United Kingdom  20.34  \n",
       "2        12/1/10 8:26       2.75     17850.0  United Kingdom  22.00  \n",
       "3        12/1/10 8:26       3.39     17850.0  United Kingdom  20.34  \n",
       "4        12/1/10 8:26       3.39     17850.0  United Kingdom  20.34  \n",
       "...               ...        ...         ...             ...    ...  \n",
       "240002  6/26/11 10:59       5.45     13408.0  United Kingdom  65.40  \n",
       "240003  6/26/11 10:59       2.10     13408.0  United Kingdom  25.20  \n",
       "240004  6/26/11 10:59       2.55     13408.0  United Kingdom  81.60  \n",
       "240005  6/26/11 10:59       2.10     13408.0  United Kingdom  25.20  \n",
       "240006  6/26/11 10:59       1.25     13408.0            Unit  15.00  \n",
       "\n",
       "[168675 rows x 9 columns]"
      ]
     },
     "execution_count": 19,
     "metadata": {},
     "output_type": "execute_result"
    }
   ],
   "source": [
    "df['sales'] = df['Quantity'] * df['UnitPrice']\n",
    "df"
   ]
  },
  {
   "cell_type": "markdown",
   "id": "0ffd2163",
   "metadata": {},
   "source": [
    "### 9. Report the top 5 countries in terms of sales. (2 points)\n",
    "a. Consider the size of sales.<br>\n",
    "b. Consider the mean value of sales"
   ]
  },
  {
   "cell_type": "code",
   "execution_count": 20,
   "id": "0a1ffe60",
   "metadata": {},
   "outputs": [
    {
     "data": {
      "text/html": [
       "<div>\n",
       "<style scoped>\n",
       "    .dataframe tbody tr th:only-of-type {\n",
       "        vertical-align: middle;\n",
       "    }\n",
       "\n",
       "    .dataframe tbody tr th {\n",
       "        vertical-align: top;\n",
       "    }\n",
       "\n",
       "    .dataframe thead th {\n",
       "        text-align: right;\n",
       "    }\n",
       "</style>\n",
       "<table border=\"1\" class=\"dataframe\">\n",
       "  <thead>\n",
       "    <tr style=\"text-align: right;\">\n",
       "      <th></th>\n",
       "      <th>sales</th>\n",
       "      <th>Quantity</th>\n",
       "    </tr>\n",
       "    <tr>\n",
       "      <th>Country</th>\n",
       "      <th></th>\n",
       "      <th></th>\n",
       "    </tr>\n",
       "  </thead>\n",
       "  <tbody>\n",
       "    <tr>\n",
       "      <th>United Kingdom</th>\n",
       "      <td>3167696.671</td>\n",
       "      <td>1833784</td>\n",
       "    </tr>\n",
       "    <tr>\n",
       "      <th>Netherlands</th>\n",
       "      <td>125816.110</td>\n",
       "      <td>88881</td>\n",
       "    </tr>\n",
       "    <tr>\n",
       "      <th>Germany</th>\n",
       "      <td>106223.190</td>\n",
       "      <td>53358</td>\n",
       "    </tr>\n",
       "    <tr>\n",
       "      <th>EIRE</th>\n",
       "      <td>101406.060</td>\n",
       "      <td>48936</td>\n",
       "    </tr>\n",
       "    <tr>\n",
       "      <th>France</th>\n",
       "      <td>89349.880</td>\n",
       "      <td>49643</td>\n",
       "    </tr>\n",
       "  </tbody>\n",
       "</table>\n",
       "</div>"
      ],
      "text/plain": [
       "                      sales  Quantity\n",
       "Country                              \n",
       "United Kingdom  3167696.671   1833784\n",
       "Netherlands      125816.110     88881\n",
       "Germany          106223.190     53358\n",
       "EIRE             101406.060     48936\n",
       "France            89349.880     49643"
      ]
     },
     "execution_count": 20,
     "metadata": {},
     "output_type": "execute_result"
    }
   ],
   "source": [
    "# Consider the size of sales.\n",
    "\n",
    "df_sales_and_qty = df.groupby(['Country']).sum()\n",
    "\n",
    "df_sales_and_qty[['sales', 'Quantity']].sort_values(['sales', 'Quantity'], ascending=[False, False]).head()\n"
   ]
  },
  {
   "cell_type": "code",
   "execution_count": 21,
   "id": "8d56c2b6",
   "metadata": {},
   "outputs": [
    {
     "data": {
      "text/plain": [
       "Country\n",
       "Australia      126.677444\n",
       "Netherlands    110.461905\n",
       "Japan          100.181609\n",
       "Singapore       90.819912\n",
       "Sweden          86.532205\n",
       "Name: sales, dtype: float64"
      ]
     },
     "execution_count": 21,
     "metadata": {},
     "output_type": "execute_result"
    }
   ],
   "source": [
    "#  Consider the mean value of sales\n",
    "\n",
    "df_sales_by_mean = df.groupby(['Country']).mean().sort_values(['sales'], ascending=False)\n",
    "df_sales_by_mean['sales'].head(5)"
   ]
  },
  {
   "cell_type": "markdown",
   "id": "80f0e52d",
   "metadata": {},
   "source": [
    "### 10. Report the top 5 products which bring the highest sales. Use StockCode for product information. (2 points)"
   ]
  },
  {
   "cell_type": "code",
   "execution_count": 22,
   "id": "51508e6b",
   "metadata": {},
   "outputs": [
    {
     "data": {
      "text/plain": [
       "StockCode\n",
       "22423     84734.20\n",
       "23166     78499.90\n",
       "85123A    58904.07\n",
       "22502     47167.85\n",
       "47566     40513.85\n",
       "Name: sales, dtype: float64"
      ]
     },
     "execution_count": 22,
     "metadata": {},
     "output_type": "execute_result"
    }
   ],
   "source": [
    "products_sales = df.groupby(['StockCode']).sum()\n",
    "products_sales['sales'].nlargest(5)"
   ]
  },
  {
   "cell_type": "markdown",
   "id": "fc9b3140",
   "metadata": {},
   "source": [
    "### 11. Convert the ‘InvoiceDate’ into a date format and report the month on which the maximum sales occur? (5 points)"
   ]
  },
  {
   "cell_type": "code",
   "execution_count": 23,
   "id": "55a0773d",
   "metadata": {},
   "outputs": [
    {
     "data": {
      "text/html": [
       "<div>\n",
       "<style scoped>\n",
       "    .dataframe tbody tr th:only-of-type {\n",
       "        vertical-align: middle;\n",
       "    }\n",
       "\n",
       "    .dataframe tbody tr th {\n",
       "        vertical-align: top;\n",
       "    }\n",
       "\n",
       "    .dataframe thead th {\n",
       "        text-align: right;\n",
       "    }\n",
       "</style>\n",
       "<table border=\"1\" class=\"dataframe\">\n",
       "  <thead>\n",
       "    <tr style=\"text-align: right;\">\n",
       "      <th></th>\n",
       "      <th>InvoiceNo</th>\n",
       "      <th>StockCode</th>\n",
       "      <th>Description</th>\n",
       "      <th>Quantity</th>\n",
       "      <th>InvoiceDate</th>\n",
       "      <th>UnitPrice</th>\n",
       "      <th>CustomerID</th>\n",
       "      <th>Country</th>\n",
       "      <th>sales</th>\n",
       "    </tr>\n",
       "  </thead>\n",
       "  <tbody>\n",
       "    <tr>\n",
       "      <th>0</th>\n",
       "      <td>536365</td>\n",
       "      <td>85123A</td>\n",
       "      <td>WHITE HANGING HEART T-LIGHT HOLDER</td>\n",
       "      <td>6</td>\n",
       "      <td>2010-12-01</td>\n",
       "      <td>2.55</td>\n",
       "      <td>17850.0</td>\n",
       "      <td>United Kingdom</td>\n",
       "      <td>15.30</td>\n",
       "    </tr>\n",
       "    <tr>\n",
       "      <th>1</th>\n",
       "      <td>536365</td>\n",
       "      <td>71053</td>\n",
       "      <td>WHITE METAL LANTERN</td>\n",
       "      <td>6</td>\n",
       "      <td>2010-12-01</td>\n",
       "      <td>3.39</td>\n",
       "      <td>17850.0</td>\n",
       "      <td>United Kingdom</td>\n",
       "      <td>20.34</td>\n",
       "    </tr>\n",
       "    <tr>\n",
       "      <th>2</th>\n",
       "      <td>536365</td>\n",
       "      <td>84406B</td>\n",
       "      <td>CREAM CUPID HEARTS COAT HANGER</td>\n",
       "      <td>8</td>\n",
       "      <td>2010-12-01</td>\n",
       "      <td>2.75</td>\n",
       "      <td>17850.0</td>\n",
       "      <td>United Kingdom</td>\n",
       "      <td>22.00</td>\n",
       "    </tr>\n",
       "    <tr>\n",
       "      <th>3</th>\n",
       "      <td>536365</td>\n",
       "      <td>84029G</td>\n",
       "      <td>KNITTED UNION FLAG HOT WATER BOTTLE</td>\n",
       "      <td>6</td>\n",
       "      <td>2010-12-01</td>\n",
       "      <td>3.39</td>\n",
       "      <td>17850.0</td>\n",
       "      <td>United Kingdom</td>\n",
       "      <td>20.34</td>\n",
       "    </tr>\n",
       "    <tr>\n",
       "      <th>4</th>\n",
       "      <td>536365</td>\n",
       "      <td>84029E</td>\n",
       "      <td>RED WOOLLY HOTTIE WHITE HEART.</td>\n",
       "      <td>6</td>\n",
       "      <td>2010-12-01</td>\n",
       "      <td>3.39</td>\n",
       "      <td>17850.0</td>\n",
       "      <td>United Kingdom</td>\n",
       "      <td>20.34</td>\n",
       "    </tr>\n",
       "    <tr>\n",
       "      <th>...</th>\n",
       "      <td>...</td>\n",
       "      <td>...</td>\n",
       "      <td>...</td>\n",
       "      <td>...</td>\n",
       "      <td>...</td>\n",
       "      <td>...</td>\n",
       "      <td>...</td>\n",
       "      <td>...</td>\n",
       "      <td>...</td>\n",
       "    </tr>\n",
       "    <tr>\n",
       "      <th>240002</th>\n",
       "      <td>558077</td>\n",
       "      <td>47590A</td>\n",
       "      <td>BLUE HAPPY BIRTHDAY BUNTING</td>\n",
       "      <td>12</td>\n",
       "      <td>2011-06-26</td>\n",
       "      <td>5.45</td>\n",
       "      <td>13408.0</td>\n",
       "      <td>United Kingdom</td>\n",
       "      <td>65.40</td>\n",
       "    </tr>\n",
       "    <tr>\n",
       "      <th>240003</th>\n",
       "      <td>558077</td>\n",
       "      <td>82600</td>\n",
       "      <td>NO SINGING METAL SIGN</td>\n",
       "      <td>12</td>\n",
       "      <td>2011-06-26</td>\n",
       "      <td>2.10</td>\n",
       "      <td>13408.0</td>\n",
       "      <td>United Kingdom</td>\n",
       "      <td>25.20</td>\n",
       "    </tr>\n",
       "    <tr>\n",
       "      <th>240004</th>\n",
       "      <td>558077</td>\n",
       "      <td>85123A</td>\n",
       "      <td>WHITE HANGING HEART T-LIGHT HOLDER</td>\n",
       "      <td>32</td>\n",
       "      <td>2011-06-26</td>\n",
       "      <td>2.55</td>\n",
       "      <td>13408.0</td>\n",
       "      <td>United Kingdom</td>\n",
       "      <td>81.60</td>\n",
       "    </tr>\n",
       "    <tr>\n",
       "      <th>240005</th>\n",
       "      <td>558077</td>\n",
       "      <td>22746</td>\n",
       "      <td>POPPY'S PLAYHOUSE LIVINGROOM</td>\n",
       "      <td>12</td>\n",
       "      <td>2011-06-26</td>\n",
       "      <td>2.10</td>\n",
       "      <td>13408.0</td>\n",
       "      <td>United Kingdom</td>\n",
       "      <td>25.20</td>\n",
       "    </tr>\n",
       "    <tr>\n",
       "      <th>240006</th>\n",
       "      <td>558077</td>\n",
       "      <td>23251</td>\n",
       "      <td>VINTAGE RED ENAMEL TRIM MUG</td>\n",
       "      <td>12</td>\n",
       "      <td>2011-06-26</td>\n",
       "      <td>1.25</td>\n",
       "      <td>13408.0</td>\n",
       "      <td>Unit</td>\n",
       "      <td>15.00</td>\n",
       "    </tr>\n",
       "  </tbody>\n",
       "</table>\n",
       "<p>168675 rows × 9 columns</p>\n",
       "</div>"
      ],
      "text/plain": [
       "       InvoiceNo StockCode                          Description  Quantity  \\\n",
       "0         536365    85123A   WHITE HANGING HEART T-LIGHT HOLDER         6   \n",
       "1         536365     71053                  WHITE METAL LANTERN         6   \n",
       "2         536365    84406B       CREAM CUPID HEARTS COAT HANGER         8   \n",
       "3         536365    84029G  KNITTED UNION FLAG HOT WATER BOTTLE         6   \n",
       "4         536365    84029E       RED WOOLLY HOTTIE WHITE HEART.         6   \n",
       "...          ...       ...                                  ...       ...   \n",
       "240002    558077    47590A          BLUE HAPPY BIRTHDAY BUNTING        12   \n",
       "240003    558077     82600                NO SINGING METAL SIGN        12   \n",
       "240004    558077    85123A   WHITE HANGING HEART T-LIGHT HOLDER        32   \n",
       "240005    558077     22746        POPPY'S PLAYHOUSE LIVINGROOM         12   \n",
       "240006    558077     23251         VINTAGE RED ENAMEL TRIM MUG         12   \n",
       "\n",
       "       InvoiceDate  UnitPrice  CustomerID         Country  sales  \n",
       "0       2010-12-01       2.55     17850.0  United Kingdom  15.30  \n",
       "1       2010-12-01       3.39     17850.0  United Kingdom  20.34  \n",
       "2       2010-12-01       2.75     17850.0  United Kingdom  22.00  \n",
       "3       2010-12-01       3.39     17850.0  United Kingdom  20.34  \n",
       "4       2010-12-01       3.39     17850.0  United Kingdom  20.34  \n",
       "...            ...        ...         ...             ...    ...  \n",
       "240002  2011-06-26       5.45     13408.0  United Kingdom  65.40  \n",
       "240003  2011-06-26       2.10     13408.0  United Kingdom  25.20  \n",
       "240004  2011-06-26       2.55     13408.0  United Kingdom  81.60  \n",
       "240005  2011-06-26       2.10     13408.0  United Kingdom  25.20  \n",
       "240006  2011-06-26       1.25     13408.0            Unit  15.00  \n",
       "\n",
       "[168675 rows x 9 columns]"
      ]
     },
     "execution_count": 23,
     "metadata": {},
     "output_type": "execute_result"
    }
   ],
   "source": [
    "df['InvoiceDate'] = pd.to_datetime(df['InvoiceDate']).dt.date\n",
    "df"
   ]
  },
  {
   "cell_type": "code",
   "execution_count": 24,
   "id": "e1228b5d",
   "metadata": {},
   "outputs": [
    {
     "data": {
      "text/html": [
       "<div>\n",
       "<style scoped>\n",
       "    .dataframe tbody tr th:only-of-type {\n",
       "        vertical-align: middle;\n",
       "    }\n",
       "\n",
       "    .dataframe tbody tr th {\n",
       "        vertical-align: top;\n",
       "    }\n",
       "\n",
       "    .dataframe thead th {\n",
       "        text-align: right;\n",
       "    }\n",
       "</style>\n",
       "<table border=\"1\" class=\"dataframe\">\n",
       "  <thead>\n",
       "    <tr style=\"text-align: right;\">\n",
       "      <th></th>\n",
       "      <th>Quantity</th>\n",
       "      <th>UnitPrice</th>\n",
       "      <th>CustomerID</th>\n",
       "      <th>sales</th>\n",
       "    </tr>\n",
       "    <tr>\n",
       "      <th>InvoiceDate</th>\n",
       "      <th></th>\n",
       "      <th></th>\n",
       "      <th></th>\n",
       "      <th></th>\n",
       "    </tr>\n",
       "  </thead>\n",
       "  <tbody>\n",
       "    <tr>\n",
       "      <th>1</th>\n",
       "      <td>349147</td>\n",
       "      <td>66964.990</td>\n",
       "      <td>321904509.0</td>\n",
       "      <td>569445.040</td>\n",
       "    </tr>\n",
       "    <tr>\n",
       "      <th>2</th>\n",
       "      <td>265638</td>\n",
       "      <td>63185.760</td>\n",
       "      <td>305225091.0</td>\n",
       "      <td>447137.350</td>\n",
       "    </tr>\n",
       "    <tr>\n",
       "      <th>3</th>\n",
       "      <td>348544</td>\n",
       "      <td>88563.100</td>\n",
       "      <td>412680258.0</td>\n",
       "      <td>595500.760</td>\n",
       "    </tr>\n",
       "    <tr>\n",
       "      <th>4</th>\n",
       "      <td>292225</td>\n",
       "      <td>79005.481</td>\n",
       "      <td>345952584.0</td>\n",
       "      <td>469200.361</td>\n",
       "    </tr>\n",
       "    <tr>\n",
       "      <th>5</th>\n",
       "      <td>373685</td>\n",
       "      <td>102128.280</td>\n",
       "      <td>431158808.0</td>\n",
       "      <td>678594.560</td>\n",
       "    </tr>\n",
       "    <tr>\n",
       "      <th>6</th>\n",
       "      <td>302196</td>\n",
       "      <td>72452.220</td>\n",
       "      <td>354655946.0</td>\n",
       "      <td>556379.780</td>\n",
       "    </tr>\n",
       "    <tr>\n",
       "      <th>12</th>\n",
       "      <td>312280</td>\n",
       "      <td>81935.610</td>\n",
       "      <td>406240953.0</td>\n",
       "      <td>572713.890</td>\n",
       "    </tr>\n",
       "  </tbody>\n",
       "</table>\n",
       "</div>"
      ],
      "text/plain": [
       "             Quantity   UnitPrice   CustomerID       sales\n",
       "InvoiceDate                                               \n",
       "1              349147   66964.990  321904509.0  569445.040\n",
       "2              265638   63185.760  305225091.0  447137.350\n",
       "3              348544   88563.100  412680258.0  595500.760\n",
       "4              292225   79005.481  345952584.0  469200.361\n",
       "5              373685  102128.280  431158808.0  678594.560\n",
       "6              302196   72452.220  354655946.0  556379.780\n",
       "12             312280   81935.610  406240953.0  572713.890"
      ]
     },
     "execution_count": 24,
     "metadata": {},
     "output_type": "execute_result"
    }
   ],
   "source": [
    "df_sales_by_month = df.groupby(pd.to_datetime(df['InvoiceDate']).dt.month).sum()\n",
    "df_sales_by_month"
   ]
  },
  {
   "cell_type": "code",
   "execution_count": 25,
   "id": "650ed9af",
   "metadata": {},
   "outputs": [
    {
     "data": {
      "text/plain": [
       "InvoiceDate\n",
       "5    678594.56\n",
       "Name: sales, dtype: float64"
      ]
     },
     "execution_count": 25,
     "metadata": {},
     "output_type": "execute_result"
    }
   ],
   "source": [
    "df_sales_by_month['sales'].nlargest(1)"
   ]
  },
  {
   "cell_type": "markdown",
   "id": "6b111745",
   "metadata": {},
   "source": [
    "### 12. Check statistical summary of the sales and use an appropriate plot to display the distribution of sales and write your inferences. (2 points)"
   ]
  },
  {
   "cell_type": "code",
   "execution_count": 26,
   "id": "c7b0cd38",
   "metadata": {},
   "outputs": [
    {
     "name": "stderr",
     "output_type": "stream",
     "text": [
      "C:\\Users\\ramyg_1q4w4a\\anaconda3\\lib\\site-packages\\seaborn\\_decorators.py:36: FutureWarning: Pass the following variables as keyword args: x, y. From version 0.12, the only valid positional argument will be `data`, and passing other arguments without an explicit keyword will result in an error or misinterpretation.\n",
      "  warnings.warn(\n"
     ]
    },
    {
     "data": {
      "text/plain": [
       "<AxesSubplot:xlabel='StockCode', ylabel='sales'>"
      ]
     },
     "execution_count": 26,
     "metadata": {},
     "output_type": "execute_result"
    },
    {
     "data": {
      "image/png": "[encoded data removed]",
      "text/plain": [
       "<Figure size 936x360 with 1 Axes>"
      ]
     },
     "metadata": {
      "needs_background": "light"
     },
     "output_type": "display_data"
    }
   ],
   "source": [
    "# 1- get the top 20 of the highest selling products\n",
    "\n",
    "df_top_20_product = df.groupby(['StockCode']).sum().sort_values(['sales'], ascending=False).head(20)\n",
    "df_top_20_product = df_top_20_product.reset_index()\n",
    "plt.subplots(figsize = (13, 5))\n",
    "sns.barplot(df_top_20_product['StockCode'], df_top_20_product['sales'])"
   ]
  },
  {
   "cell_type": "markdown",
   "id": "5fed706e",
   "metadata": {},
   "source": [
    "1- the highest product in sales is (StockCode:22432) achieving over 80000<br>\n"
   ]
  },
  {
   "cell_type": "code",
   "execution_count": 27,
   "id": "c9d0cf76",
   "metadata": {},
   "outputs": [
    {
     "name": "stderr",
     "output_type": "stream",
     "text": [
      "C:\\Users\\ramyg_1q4w4a\\anaconda3\\lib\\site-packages\\seaborn\\_decorators.py:36: FutureWarning: Pass the following variables as keyword args: x, y. From version 0.12, the only valid positional argument will be `data`, and passing other arguments without an explicit keyword will result in an error or misinterpretation.\n",
      "  warnings.warn(\n"
     ]
    },
    {
     "data": {
      "image/png": "[encoded data removed]",
      "text/plain": [
       "<Figure size 432x288 with 1 Axes>"
      ]
     },
     "metadata": {
      "needs_background": "light"
     },
     "output_type": "display_data"
    }
   ],
   "source": [
    "# 3- get the sales by mouth\n",
    "df_sales_by_month = df.groupby(pd.to_datetime(df['InvoiceDate']).dt.month).sum()\n",
    "df_sales_by_month = df_sales_by_month.reset_index()\n",
    "df_sales_by_month\n",
    "sns.barplot(df_sales_by_month['InvoiceDate'], df_sales_by_month['sales'], estimator=sum);\n"
   ]
  },
  {
   "cell_type": "markdown",
   "id": "6b85bec9",
   "metadata": {},
   "source": [
    "2- this barplot shows the highest mouth in terms of sales which is May (the Fifth Month of the Year)"
   ]
  },
  {
   "cell_type": "code",
   "execution_count": 28,
   "id": "69107479",
   "metadata": {
    "scrolled": true
   },
   "outputs": [
    {
     "name": "stderr",
     "output_type": "stream",
     "text": [
      "C:\\Users\\ramyg_1q4w4a\\anaconda3\\lib\\site-packages\\seaborn\\_decorators.py:36: FutureWarning: Pass the following variables as keyword args: x, y. From version 0.12, the only valid positional argument will be `data`, and passing other arguments without an explicit keyword will result in an error or misinterpretation.\n",
      "  warnings.warn(\n"
     ]
    },
    {
     "data": {
      "image/png": "[encoded data removed]",
      "text/plain": [
       "<Figure size 1296x288 with 1 Axes>"
      ]
     },
     "metadata": {
      "needs_background": "light"
     },
     "output_type": "display_data"
    }
   ],
   "source": [
    "plt.subplots(figsize = (18, 4))\n",
    "plt.xticks(rotation=75)\n",
    "scatterplot_1 = sns.scatterplot(df['Country'], df['sales']);\n"
   ]
  },
  {
   "cell_type": "markdown",
   "id": "dca5dce8",
   "metadata": {},
   "source": [
    "3- this shows the scatterplot for each country in terms of sales sales<br>\n",
    "4- we have the highest Country in terms of sales is United Kindom"
   ]
  },
  {
   "cell_type": "code",
   "execution_count": 29,
   "id": "aab05c74",
   "metadata": {},
   "outputs": [
    {
     "data": {
      "text/plain": [
       "count         7.000000\n",
       "mean     555567.391571\n",
       "std       77925.121623\n",
       "min      447137.350000\n",
       "25%      512790.070500\n",
       "50%      569445.040000\n",
       "75%      584107.325000\n",
       "max      678594.560000\n",
       "Name: sales, dtype: float64"
      ]
     },
     "execution_count": 29,
     "metadata": {},
     "output_type": "execute_result"
    }
   ],
   "source": [
    "df_sales_by_month['sales'].describe()"
   ]
  },
  {
   "cell_type": "code",
   "execution_count": 30,
   "id": "7f70c667",
   "metadata": {},
   "outputs": [
    {
     "name": "stderr",
     "output_type": "stream",
     "text": [
      "C:\\Users\\ramyg_1q4w4a\\anaconda3\\lib\\site-packages\\seaborn\\distributions.py:2619: FutureWarning: `distplot` is a deprecated function and will be removed in a future version. Please adapt your code to use either `displot` (a figure-level function with similar flexibility) or `histplot` (an axes-level function for histograms).\n",
      "  warnings.warn(msg, FutureWarning)\n"
     ]
    },
    {
     "data": {
      "text/plain": [
       "<AxesSubplot:xlabel='sales', ylabel='Density'>"
      ]
     },
     "execution_count": 30,
     "metadata": {},
     "output_type": "execute_result"
    },
    {
     "data": {
      "image/png": "[encoded data removed]",
      "text/plain": [
       "<Figure size 432x288 with 1 Axes>"
      ]
     },
     "metadata": {
      "needs_background": "light"
     },
     "output_type": "display_data"
    }
   ],
   "source": [
    "sns.distplot(df_sales_by_month['sales'])"
   ]
  },
  {
   "cell_type": "markdown",
   "id": "dfb15be6",
   "metadata": {},
   "source": [
    "- Data is left skewed\n",
    "- 25% of data is less than or equal to 512790.07\n",
    "- Median is at 569445.04\n",
    "- 75% of data is less than or equal to 678594.56"
   ]
  },
  {
   "cell_type": "code",
   "execution_count": 31,
   "id": "7fdb81d5",
   "metadata": {},
   "outputs": [
    {
     "name": "stderr",
     "output_type": "stream",
     "text": [
      "C:\\Users\\ramyg_1q4w4a\\anaconda3\\lib\\site-packages\\seaborn\\_decorators.py:36: FutureWarning: Pass the following variable as a keyword arg: x. From version 0.12, the only valid positional argument will be `data`, and passing other arguments without an explicit keyword will result in an error or misinterpretation.\n",
      "  warnings.warn(\n"
     ]
    },
    {
     "data": {
      "text/plain": [
       "<AxesSubplot:xlabel='sales'>"
      ]
     },
     "execution_count": 31,
     "metadata": {},
     "output_type": "execute_result"
    },
    {
     "data": {
      "image/png": "[encoded data removed]",
      "text/plain": [
       "<Figure size 1080x288 with 1 Axes>"
      ]
     },
     "metadata": {
      "needs_background": "light"
     },
     "output_type": "display_data"
    }
   ],
   "source": [
    "plt.subplots(figsize = (15, 4))\n",
    "sns.boxplot(df['sales'])"
   ]
  },
  {
   "cell_type": "markdown",
   "id": "8e8d1304",
   "metadata": {},
   "source": [
    "- The main data frame has a lot of extreme values so I grouped them by mouth"
   ]
  }
 ],
 "metadata": {
  "kernelspec": {
   "display_name": "Python 3 (ipykernel)",
   "language": "python",
   "name": "python3"
  },
  "language_info": {
   "codemirror_mode": {
    "name": "ipython",
    "version": 3
   },
   "file_extension": ".py",
   "mimetype": "text/x-python",
   "name": "python",
   "nbconvert_exporter": "python",
   "pygments_lexer": "ipython3",
   "version": "3.9.7"
  }
 },
 "nbformat": 4,
 "nbformat_minor": 5
}
